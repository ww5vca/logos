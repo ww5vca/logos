{
 "cells": [
  {
   "cell_type": "code",
   "execution_count": 7,
   "metadata": {},
   "outputs": [],
   "source": [
    "import glob\n",
    "import os\n",
    "import imagesize\n",
    "import urllib"
   ]
  },
  {
   "cell_type": "code",
   "execution_count": 8,
   "metadata": {},
   "outputs": [],
   "source": [
    "fdLst = ['OEM', 'Supplier', 'Flag', 'Icon', 'Model']\n",
    "templateSheet = \"\"\"                <li id=\"{}\">{}</li>\n",
    "\"\"\"\n",
    "templateBox = \"\"\"        <div class=\"box {}\">\n",
    "            <div class=\"img-box\">\n",
    "                <img src=\"./logos/{}/{}.png\"\n",
    "                alt=\"{} {}x{} png\" title=\"{} {}x{} png\">\n",
    "            </div>\n",
    "            <div class=\"txt txt-hidden\">{} {}x{} png</div>\n",
    "        </div>\n",
    "\"\"\""
   ]
  },
  {
   "cell_type": "code",
   "execution_count": 9,
   "metadata": {},
   "outputs": [],
   "source": [
    "htmlSheet = \"\"\"                <!-- replacer flag sheet -->\n",
    "\"\"\"\n",
    "htmlBox = \"\"\"        <!-- replacer flag box -->\n",
    "\"\"\"\n",
    "for fd in fdLst:\n",
    "    fdLower = fd.lower()\n",
    "    htmlSheet += templateSheet.format(fdLower, fd)\n",
    "    gbPath = os.path.normpath(os.path.join(\"./logos/\", fdLower, \"*.png\"))\n",
    "    for i in glob.glob(gbPath):\n",
    "        imgSize = imagesize.get(i)\n",
    "        imgInfo = [fdLower, os.path.basename(i)[:-4], imgSize[0], imgSize[1], \"png\"]        \n",
    "        htmlBox += templateBox.format(imgInfo[0], \n",
    "                                      imgInfo[0], urllib.parse.quote(imgInfo[1].encode('utf-8')), \n",
    "                                      imgInfo[1], imgInfo[2], imgInfo[3], imgInfo[1], imgInfo[2], imgInfo[3], imgInfo[1], imgInfo[2], imgInfo[3])\n",
    "\n",
    "with open(\"./index.html\", \"w\", encoding=\"utf-8\") as i:\n",
    "    with open(\"./demo.html\", \"r\", encoding=\"utf-8\") as d:\n",
    "        for htmlLine in d:\n",
    "            if \"replacer flag sheet\" in htmlLine:\n",
    "                i.write(htmlSheet)\n",
    "            elif \"replacer flag box\" in htmlLine:\n",
    "                i.write(htmlBox)\n",
    "            else:\n",
    "                i.write(htmlLine)"
   ]
  }
 ],
 "metadata": {
  "kernelspec": {
   "display_name": "Python 3",
   "language": "python",
   "name": "python3"
  },
  "language_info": {
   "codemirror_mode": {
    "name": "ipython",
    "version": 3
   },
   "file_extension": ".py",
   "mimetype": "text/x-python",
   "name": "python",
   "nbconvert_exporter": "python",
   "pygments_lexer": "ipython3",
   "version": "3.10.5"
  }
 },
 "nbformat": 4,
 "nbformat_minor": 2
}
